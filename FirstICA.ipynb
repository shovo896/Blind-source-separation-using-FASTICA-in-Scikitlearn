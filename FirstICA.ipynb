{
 "cells": [
  {
   "cell_type": "code",
   "execution_count": 1,
   "id": "b1b024ec",
   "metadata": {},
   "outputs": [],
   "source": [
    "import numpy as np \n",
    "import matplotlib.pyplot as plt \n",
    "from sklearn.decomposition import FastICA"
   ]
  },
  {
   "cell_type": "code",
   "execution_count": 3,
   "id": "166c957d",
   "metadata": {},
   "outputs": [],
   "source": [
    "np.random.seed(42)\n",
    "samples = 200\n",
    "time = np.linspace(0, 8, samples)\n",
    "signal_1 = np.sin(2 * time)\n",
    "signal_2 = np.sign(np.sin(3 * time))\n",
    "signal_3 = np.random.laplace(size=samples)\n",
    "\n",
    "S = np.c_[signal_1, signal_2, signal_3]\n",
    "S += 0.2 * np.random.normal(size=S.shape)\n",
    "\n",
    "A = np.array([[1, 1, 1], [0.5, 2, 1], [1.5, 1, 2]])\n",
    "X = S.dot(A.T)"
   ]
  },
  {
   "cell_type": "markdown",
   "id": "9ee2e2d4",
   "metadata": {},
   "source": [
    "Apply and FastICA to recover the signal "
   ]
  }
 ],
 "metadata": {
  "kernelspec": {
   "display_name": "Python 3",
   "language": "python",
   "name": "python3"
  },
  "language_info": {
   "codemirror_mode": {
    "name": "ipython",
    "version": 3
   },
   "file_extension": ".py",
   "mimetype": "text/x-python",
   "name": "python",
   "nbconvert_exporter": "python",
   "pygments_lexer": "ipython3",
   "version": "3.13.5"
  }
 },
 "nbformat": 4,
 "nbformat_minor": 5
}
