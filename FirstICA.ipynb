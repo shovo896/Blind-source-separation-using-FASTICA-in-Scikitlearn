{
 "cells": [
  {
   "cell_type": "code",
   "execution_count": 1,
   "id": "b1b024ec",
   "metadata": {},
   "outputs": [],
   "source": [
    "import numpy as np \n",
    "import matplotlib.pyplot as plt \n",
    "from sklearn.decomposition import FastICA"
   ]
  },
  {
   "cell_type": "code",
   "execution_count": null,
   "id": "166c957d",
   "metadata": {},
   "outputs": [],
   "source": [
    "np.random.seed(0)\n",
    "n_samples=2000\n",
    "time=np.linspace(0,8,n_samples)\n",
    "\n",
    "s1=np.sin(2*time)\n",
    "s2=np.sin(np.sin(3*time))\n",
    "s3=np.random.normal(0,1,n_samples)\n",
    "\n",
    "S=np.c_[s1,s2,s3]\n",
    "\n",
    "A=np.array([[1,1,1],[0.5,2,1.0],[1.5,1.0,2.0]])\n",
    "\n",
    "X=np."
   ]
  }
 ],
 "metadata": {
  "kernelspec": {
   "display_name": "Python 3",
   "language": "python",
   "name": "python3"
  },
  "language_info": {
   "codemirror_mode": {
    "name": "ipython",
    "version": 3
   },
   "file_extension": ".py",
   "mimetype": "text/x-python",
   "name": "python",
   "nbconvert_exporter": "python",
   "pygments_lexer": "ipython3",
   "version": "3.13.5"
  }
 },
 "nbformat": 4,
 "nbformat_minor": 5
}
